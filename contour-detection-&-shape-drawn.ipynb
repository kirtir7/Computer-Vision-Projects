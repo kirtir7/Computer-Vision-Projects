{
  "nbformat": 4,
  "nbformat_minor": 0,
  "metadata": {
    "kernelspec": {
      "display_name": "Python 3",
      "language": "python",
      "name": "python3"
    },
    "language_info": {
      "codemirror_mode": {
        "name": "ipython",
        "version": 3
      },
      "file_extension": ".py",
      "mimetype": "text/x-python",
      "name": "python",
      "nbconvert_exporter": "python",
      "pygments_lexer": "ipython3",
      "version": "3.8.5"
    },
    "colab": {
      "name": "18BCS6013_Exp-4.ipynb",
      "provenance": []
    }
  },
  "cells": [
    {
      "cell_type": "markdown",
      "metadata": {
        "id": "MSJvBVp0vO_0"
      },
      "source": [
        "<b>Aim: To detect contours and shape drawn within a given image using python and OpenCV. </b>"
      ]
    },
    {
      "cell_type": "code",
      "metadata": {
        "id": "zxl14rD4vO_2"
      },
      "source": [
        "import cv2\n",
        "import numpy as np"
      ],
      "execution_count": 1,
      "outputs": []
    },
    {
      "cell_type": "code",
      "metadata": {
        "id": "YutZ0VKdvO_7"
      },
      "source": [
        "#code for function contours\n",
        "def getContours(img):\n",
        "    contours, hierarchy = cv2.findContours(img, cv2.RETR_EXTERNAL, cv2.CHAIN_APPROX_NONE)\n",
        "    for cnt in contours:\n",
        "        area = cv2.contourArea(cnt)\n",
        "        print(area)\n",
        "        if area > 500:\n",
        "            cv2.drawContours(imgContour, cnt, -1, (70, 0, 233), 3)\n",
        "            peri = cv2.arcLength(cnt, True)\n",
        "            print(peri)\n",
        "\n",
        "            approx = cv2.approxPolyDP(cnt, 0.02 * peri, True)\n",
        "            print(len(approx))\n",
        "            objCor = len(approx)\n",
        "            x, y, w, h = cv2.boundingRect(approx)\n",
        "\n",
        "            if objCor == 3:\n",
        "                objectType = \"Triangle\"\n",
        "            elif objCor == 4:\n",
        "                aspRatio = w / float(h)\n",
        "                if aspRatio > 0.98 and aspRatio < 1.03:\n",
        "                    objectType = \"Square\"\n",
        "                else:\n",
        "                    objectType = \"Rectangle\"\n",
        "            elif objCor > 4:\n",
        "                objectType = \"Circles\"\n",
        "            else:\n",
        "                objectType = \"None\"\n",
        "\n",
        "            cv2.rectangle(imgContour, (x, y), (x + w, y + h), (255, 247, 0), 2)\n",
        "            cv2.putText(imgContour, objectType,\n",
        "                        (x + (w // 2) - 10, y + (h // 2) - 10), cv2.FONT_HERSHEY_COMPLEX_SMALL, 0.7,\n",
        "                        (0, 0, 0), 2)"
      ],
      "execution_count": 2,
      "outputs": []
    },
    {
      "cell_type": "code",
      "metadata": {
        "id": "-HV1mNlnvO__"
      },
      "source": [
        "#code for stackImages\n",
        "def stackImages(scale,imgArray):\n",
        "    rows = len(imgArray)\n",
        "    cols = len(imgArray[0])\n",
        "    print(rows)\n",
        "    print(cols)\n",
        "    print(imgArray)\n",
        "\n",
        "    rowsAvailable = isinstance(imgArray[0], list)\n",
        "\n",
        "    width = imgArray[0][0].shape[1]\n",
        "    height = imgArray[0][0].shape[0]\n",
        "    print (width)\n",
        "    print (height)\n",
        "    if rowsAvailable:\n",
        "        for x in range ( 0, rows):\n",
        "            for y in range(0, cols):\n",
        "                if imgArray[x][y].shape[:2] == imgArray[0][0].shape [:2]:\n",
        "                    imgArray[x][y] = cv2.resize(imgArray[x][y], (0, 0), None, scale, scale)\n",
        "                else:\n",
        "                    imgArray[x][y] = cv2.resize(imgArray[x][y], (imgArray[0][0].shape[1], imgArray[0][0].shape[0]), None, scale, scale)\n",
        "                if len(imgArray[x][y].shape) == 2: imgArray[x][y]= cv2.cvtColor( imgArray[x][y], cv2.COLOR_GRAY2BGR)\n",
        "        imageBlank = np.zeros((height, width, 3), np.uint8)\n",
        "        hor = [imageBlank]*rows\n",
        "        hor_con = [imageBlank]*rows\n",
        "\n",
        "        for x in range(0, rows):\n",
        "            hor[x] = np.hstack(imgArray[x])\n",
        "        ver = np.vstack(hor)\n",
        "\n",
        "    else:\n",
        "        for x in range(0, rows):\n",
        "            if imgArray[x].shape[:2] == imgArray[0].shape[:2]:\n",
        "                imgArray[x] = cv2.resize(imgArray[x], (0, 0), None, scale, scale)\n",
        "            else:\n",
        "                imgArray[x] = cv2.resize(imgArray[x], (imgArray[0].shape[1], imgArray[0].shape[0]), None,scale, scale)\n",
        "            if len(imgArray[x].shape) == 2: imgArray[x] = cv2.cvtColor(imgArray[x], cv2.COLOR_GRAY2BGR)\n",
        "\n",
        "        hor = np.hstack(imgArray)\n",
        "        ver = hor\n",
        "    return ver\n"
      ],
      "execution_count": null,
      "outputs": []
    },
    {
      "cell_type": "code",
      "metadata": {
        "id": "6IgW47c9vPAC",
        "colab": {
          "base_uri": "https://localhost:8080/",
          "height": 1000
        },
        "outputId": "f9f72210-2d5c-422e-c974-7c4ee21e5aea"
      },
      "source": [
        "#code for getting counters\n",
        "path = (r'/content/grizzly.jpg')\n",
        "img = cv2.imread(path)\n",
        "imgContour = img.copy()\n",
        "imgGray = cv2.cvtColor(img, cv2.COLOR_BGR2GRAY)\n",
        "imgBlur = cv2.GaussianBlur(imgGray, (7, 7), 1)\n",
        "imgCanny = cv2.Canny(imgBlur, 50, 50)\n",
        "getContours(imgCanny)\n",
        "imgBlank = np.zeros_like(img)\n",
        "imgStack = stackImages(0.8, ([img, imgGray, imgBlur],\n",
        "                             [imgCanny, imgContour, imgBlank]))\n",
        "cv2.imshow(\"Stacked and contoured Images\", imgStack)\n",
        "cv2.waitKey(0)\n",
        "cv2.destroyAllWindows()"
      ],
      "execution_count": 3,
      "outputs": [
        {
          "output_type": "stream",
          "name": "stdout",
          "text": [
            "1.5\n",
            "0.0\n",
            "3.0\n",
            "0.0\n",
            "3.0\n",
            "17.0\n",
            "0.0\n",
            "0.0\n",
            "3.5\n",
            "0.0\n",
            "1.5\n",
            "0.0\n",
            "0.0\n",
            "0.0\n",
            "0.0\n",
            "0.0\n",
            "171.5\n",
            "0.0\n",
            "6.5\n",
            "0.0\n",
            "6.5\n",
            "0.0\n",
            "53.5\n",
            "6.0\n",
            "8.0\n",
            "7.0\n",
            "6.0\n",
            "8.5\n",
            "9.5\n",
            "8.0\n",
            "225.0\n",
            "0.0\n",
            "0.0\n",
            "4.0\n",
            "2.0\n",
            "6.0\n",
            "0.0\n",
            "8.5\n",
            "86.5\n",
            "1957.5\n",
            "238.69343197345734\n",
            "12\n",
            "101.5\n",
            "42.0\n",
            "58.5\n",
            "12.0\n",
            "51.0\n",
            "21.0\n",
            "63.5\n",
            "55.5\n",
            "2400.0\n",
            "303.5634891986847\n",
            "8\n",
            "531.0\n",
            "99.11269783973694\n",
            "8\n",
            "57.5\n",
            "58.0\n",
            "0.0\n",
            "0.0\n",
            "111.5\n",
            "214.5\n",
            "217.0\n"
          ]
        },
        {
          "output_type": "error",
          "ename": "NameError",
          "evalue": "ignored",
          "traceback": [
            "\u001b[0;31m---------------------------------------------------------------------------\u001b[0m",
            "\u001b[0;31mNameError\u001b[0m                                 Traceback (most recent call last)",
            "\u001b[0;32m<ipython-input-3-480745a7b16b>\u001b[0m in \u001b[0;36m<module>\u001b[0;34m()\u001b[0m\n\u001b[1;32m      8\u001b[0m \u001b[0mgetContours\u001b[0m\u001b[0;34m(\u001b[0m\u001b[0mimgCanny\u001b[0m\u001b[0;34m)\u001b[0m\u001b[0;34m\u001b[0m\u001b[0;34m\u001b[0m\u001b[0m\n\u001b[1;32m      9\u001b[0m \u001b[0mimgBlank\u001b[0m \u001b[0;34m=\u001b[0m \u001b[0mnp\u001b[0m\u001b[0;34m.\u001b[0m\u001b[0mzeros_like\u001b[0m\u001b[0;34m(\u001b[0m\u001b[0mimg\u001b[0m\u001b[0;34m)\u001b[0m\u001b[0;34m\u001b[0m\u001b[0;34m\u001b[0m\u001b[0m\n\u001b[0;32m---> 10\u001b[0;31m imgStack = stackImages(0.8, ([img, imgGray, imgBlur],\n\u001b[0m\u001b[1;32m     11\u001b[0m                              [imgCanny, imgContour, imgBlank]))\n\u001b[1;32m     12\u001b[0m \u001b[0mcv2\u001b[0m\u001b[0;34m.\u001b[0m\u001b[0mimshow\u001b[0m\u001b[0;34m(\u001b[0m\u001b[0;34m\"Stacked and contoured Images\"\u001b[0m\u001b[0;34m,\u001b[0m \u001b[0mimgStack\u001b[0m\u001b[0;34m)\u001b[0m\u001b[0;34m\u001b[0m\u001b[0;34m\u001b[0m\u001b[0m\n",
            "\u001b[0;31mNameError\u001b[0m: name 'stackImages' is not defined"
          ]
        }
      ]
    },
    {
      "cell_type": "code",
      "metadata": {
        "id": "m4jkjW3NvPAE"
      },
      "source": [
        ""
      ],
      "execution_count": null,
      "outputs": []
    }
  ]
}